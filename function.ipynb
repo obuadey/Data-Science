{
 "cells": [
  {
   "cell_type": "code",
   "execution_count": null,
   "metadata": {},
   "outputs": [],
   "source": [
    "def inc(x):\n",
    "    x = x+1\n",
    "\n",
    "x= 10\n",
    "\n",
    "inc(x)\n",
    "print(x)"
   ]
  },
  {
   "cell_type": "code",
   "execution_count": null,
   "metadata": {},
   "outputs": [],
   "source": [
    "def f1(list1):\n",
    "    list1.append(\"!!!\")\n",
    "\n",
    "l = ['a', 'b']\n",
    "\n",
    "f1(l)\n",
    "print(l)"
   ]
  },
  {
   "cell_type": "code",
   "execution_count": null,
   "metadata": {},
   "outputs": [],
   "source": [
    "def lastToFirst(list2):\n",
    "    lastElement = list2.pop()\n",
    "    list2.insert(0,lastElement)\n",
    "    return list2\n",
    "\n",
    "list3 = [1,2,3,4,5,6,7,8]\n",
    "lastToFirst(list3)"
   ]
  },
  {
   "cell_type": "code",
   "execution_count": null,
   "metadata": {},
   "outputs": [],
   "source": [
    "def func(list1, indices):\n",
    "    count = 0\n",
    "    tup = ()\n",
    "\n",
    "    while count < len(indices):\n",
    "        tup = tup + tuple(list1[indices[count]])\n",
    "        count = count + 1\n",
    "    return tup\n",
    "        \n",
    "o=['a','b','c','d','e']\n",
    "indices=[1,0,4]\n",
    "print(func(o, indices))"
   ]
  },
  {
   "cell_type": "code",
   "execution_count": null,
   "metadata": {},
   "outputs": [],
   "source": [
    "def dictGen(list1):\n",
    "    count = 0\n",
    "    dict1 = {}\n",
    "    while count < len(list1):\n",
    "        dict1[list1[count]] = count\n",
    "        count = count + 1\n",
    "    return dict1\n",
    "    \n",
    "p=['abc','def','ghi','jkl','mno']\n",
    "print(dictGen(p))  "
   ]
  },
  {
   "cell_type": "code",
   "execution_count": null,
   "metadata": {},
   "outputs": [],
   "source": [
    "def acc(init,tup):\n",
    "    count = 0\n",
    "    acc = init\n",
    "    while count < len(tup):\n",
    "        acc = acc + tup[count]\n",
    "        count = count + 1\n",
    "    return acc\n",
    "\n",
    "print(acc(2, (1,3,5)))"
   ]
  },
  {
   "cell_type": "code",
   "execution_count": 10,
   "metadata": {},
   "outputs": [
    {
     "name": "stdout",
     "output_type": "stream",
     "text": [
      "0\n",
      "1\n",
      "1\n",
      "2\n",
      "3\n",
      "5\n",
      "8\n",
      "13\n"
     ]
    }
   ],
   "source": [
    "\n",
    "\n",
    "def Fibonacci(nterms):\n",
    "    n1, n2 = 0, 1\n",
    "    count = 0\n",
    "\n",
    "    if nterms == 0 :\n",
    "        print(n1)\n",
    "\n",
    "    elif nterms == 1:\n",
    "        print(n1)\n",
    "        print(n2)\n",
    "    else:\n",
    "        while count < nterms:\n",
    "            print(n1)\n",
    "            nth = n1 + n2\n",
    "            # update values\n",
    "            n1 = n2\n",
    "            n2 = nth\n",
    "            count += 1\n",
    "\n",
    "Fibonacci(8)"
   ]
  },
  {
   "cell_type": "code",
   "execution_count": null,
   "metadata": {},
   "outputs": [],
   "source": []
  }
 ],
 "metadata": {
  "interpreter": {
   "hash": "8fac594bfae6525c0c41b4041d2d72effa188cc8ead05f81b1fab2bb098927fb"
  },
  "kernelspec": {
   "display_name": "Python 3.8.8 64-bit ('base': conda)",
   "name": "python3"
  },
  "language_info": {
   "codemirror_mode": {
    "name": "ipython",
    "version": 3
   },
   "file_extension": ".py",
   "mimetype": "text/x-python",
   "name": "python",
   "nbconvert_exporter": "python",
   "pygments_lexer": "ipython3",
   "version": "3.8.8"
  },
  "orig_nbformat": 4
 },
 "nbformat": 4,
 "nbformat_minor": 2
}
