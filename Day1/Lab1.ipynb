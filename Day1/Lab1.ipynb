{
 "cells": [
  {
   "cell_type": "code",
   "execution_count": null,
   "metadata": {},
   "outputs": [],
   "source": [
    "print(\"Hello World\")\n",
    "world = \"Hello\"\n",
    "print(world)"
   ]
  },
  {
   "cell_type": "code",
   "execution_count": null,
   "metadata": {},
   "outputs": [],
   "source": [
    "num = int (input(\"Enter a number\"))\n",
    "\n",
    "if num%2 == 0 :\n",
    "    print(\"the number is even\")\n",
    "\n",
    "else:\n",
    "    print(\"the number is odd\") \n",
    "    "
   ]
  },
  {
   "cell_type": "code",
   "execution_count": null,
   "metadata": {},
   "outputs": [],
   "source": [
    "name = \"Edem Ahadzi\"\n",
    "age = 46\n",
    "\n",
    "print(name)\n",
    "print(age)\n",
    "\n",
    "nameAge = name + \" \" + str(age) \n",
    "print(nameAge)"
   ]
  },
  {
   "cell_type": "code",
   "execution_count": null,
   "metadata": {},
   "outputs": [],
   "source": [
    "import random\n",
    "\n",
    "randomNumber = random.randint(1,5)\n",
    "\n",
    "userNumber = int(input(\"Enter a number between 1 and 5\"))\n",
    "\n",
    "while True:\n",
    "    if randomNumber != userNumber:\n",
    "        print(\"Enter the number again\")\n",
    "        userNumber = int(input(\"Enter a number between 1 and 5\"))\n",
    "    else :\n",
    "        print(\"Yayyyy!!!!! you guessed right \")\n",
    "        break\n"
   ]
  },
  {
   "cell_type": "code",
   "execution_count": null,
   "metadata": {},
   "outputs": [],
   "source": [
    "list1 = [1, 4, 9, 16, 25]\n",
    "\n",
    "for x in list1:\n",
    "    print(x)"
   ]
  },
  {
   "cell_type": "code",
   "execution_count": null,
   "metadata": {},
   "outputs": [],
   "source": [
    "years = 0\n",
    "age = 5\n",
    "\n",
    "while age != 0 :\n",
    "    years= years + age\n",
    "    age = age-1\n",
    "\n",
    "\n",
    "print(years)\n",
    "\n",
    "month = years * 12\n",
    "print(month)\n",
    "\n",
    "day = years * 365\n",
    "print(day)\n",
    "\n"
   ]
  },
  {
   "cell_type": "code",
   "execution_count": null,
   "metadata": {},
   "outputs": [],
   "source": [
    "type(5)\n",
    "type(5000 * 50000000)\n",
    "type('j')\n",
    "type(1j)\n",
    "type((1,))\n",
    "type([1])\n",
    "type(None)"
   ]
  },
  {
   "cell_type": "code",
   "execution_count": null,
   "metadata": {},
   "outputs": [],
   "source": [
    "count = 0\n",
    "n1 = 0\n",
    "n2 = 1\n",
    "\n",
    "while count < 20:\n",
    "    print(n1)\n",
    "    next = n1 + n2  \n",
    "    n1 = n2\n",
    "    n2 = next\n",
    "    count = count + 1\n",
    "    "
   ]
  },
  {
   "cell_type": "code",
   "execution_count": null,
   "metadata": {},
   "outputs": [],
   "source": [
    "name = 'edem'\n",
    "print(name[-1])\n",
    "\n",
    "for letter in name:\n",
    "    print(letter+ \":\")\n"
   ]
  },
  {
   "cell_type": "code",
   "execution_count": null,
   "metadata": {},
   "outputs": [],
   "source": [
    "count = 0\n",
    "counter = 0\n",
    "list1=[] \n",
    "\n",
    "while count < 10:\n",
    "    listItem = input(\"Put in a 10 numbers b/n 1 and 8\")\n",
    "    list1.append(listItem)\n",
    "    count = count + 1 \n",
    "\n",
    "print(list1)\n",
    "\n",
    "x = list1.count(\"5\")\n",
    "print(x)"
   ]
  },
  {
   "cell_type": "code",
   "execution_count": 59,
   "metadata": {},
   "outputs": [
    {
     "data": {
      "text/plain": [
       "[1, 4, 9]"
      ]
     },
     "execution_count": 59,
     "metadata": {},
     "output_type": "execute_result"
    }
   ],
   "source": [
    "list1 = [1, 4, 9, 16, 25]\n",
    "[list1.pop(el%2 == 0) for el in list1]"
   ]
  },
  {
   "cell_type": "code",
   "execution_count": null,
   "metadata": {},
   "outputs": [],
   "source": []
  }
 ],
 "metadata": {
  "interpreter": {
   "hash": "8fac594bfae6525c0c41b4041d2d72effa188cc8ead05f81b1fab2bb098927fb"
  },
  "kernelspec": {
   "display_name": "Python 3.8.8 64-bit ('base': conda)",
   "name": "python3"
  },
  "language_info": {
   "codemirror_mode": {
    "name": "ipython",
    "version": 3
   },
   "file_extension": ".py",
   "mimetype": "text/x-python",
   "name": "python",
   "nbconvert_exporter": "python",
   "pygments_lexer": "ipython3",
   "version": "3.8.8"
  },
  "orig_nbformat": 4
 },
 "nbformat": 4,
 "nbformat_minor": 2
}
