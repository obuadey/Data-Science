{
 "cells": [
  {
   "cell_type": "code",
   "execution_count": 3,
   "metadata": {},
   "outputs": [],
   "source": [
    "\n",
    "import numpy as np\n",
    "import csv"
   ]
  },
  {
   "cell_type": "code",
   "execution_count": 11,
   "metadata": {},
   "outputs": [
    {
     "name": "stdout",
     "output_type": "stream",
     "text": [
      "[[ 115.80  116.33  114.76  116.15  113.01  28781900.00]\n",
      " [ 115.85  116.51  115.75  116.02  112.89  21118100.00]\n",
      " [ 115.92  116.86  115.81  116.61  113.46  22193600.00]\n",
      " ...\n",
      " [ 170.10  170.78  169.71  170.60  168.66  21498200.00]\n",
      " [ 171.00  171.85  170.48  171.08  169.14  16480200.00]\n",
      " [ 170.52  170.59  169.22  169.23  167.31  25884400.00]]\n"
     ]
    }
   ],
   "source": [
    "with open('AAPL-2017.csv', newline = '') as a:\n",
    "    reader = csv.DictReader(a)\n",
    "    stock2017 = np.empty((0, 6))\n",
    "    for row in reader:\n",
    "        oneRow = np.array([[row['Open'], row['High'], row['Low'],row['Close'],row['Adj Close'], row['Volume']]])\n",
    "        stock2017 = np.append(stock2017,oneRow, axis=0)\n",
    "print(stock2017.astype('float64'))"
   ]
  },
  {
   "cell_type": "code",
   "execution_count": 8,
   "metadata": {},
   "outputs": [],
   "source": [
    "np.set_printoptions(formatter={'float': '{: 6.2f}'.format})"
   ]
  }
 ],
 "metadata": {
  "interpreter": {
   "hash": "8fac594bfae6525c0c41b4041d2d72effa188cc8ead05f81b1fab2bb098927fb"
  },
  "kernelspec": {
   "display_name": "Python 3.8.8 64-bit ('base': conda)",
   "name": "python3"
  },
  "language_info": {
   "codemirror_mode": {
    "name": "ipython",
    "version": 3
   },
   "file_extension": ".py",
   "mimetype": "text/x-python",
   "name": "python",
   "nbconvert_exporter": "python",
   "pygments_lexer": "ipython3",
   "version": "3.8.8"
  },
  "orig_nbformat": 4
 },
 "nbformat": 4,
 "nbformat_minor": 2
}
