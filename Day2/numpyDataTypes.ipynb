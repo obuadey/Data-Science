{
 "cells": [
  {
   "cell_type": "code",
   "execution_count": 8,
   "metadata": {},
   "outputs": [
    {
     "name": "stdout",
     "output_type": "stream",
     "text": [
      "[['115.800003' '116.330002' '114.760002' '116.150002' '113.013916'\n",
      "  '28781900']\n",
      " ['115.849998' '116.510002' '115.750000' '116.019997' '112.887413'\n",
      "  '21118100']\n",
      " ['115.919998' '116.860001' '115.809998' '116.610001' '113.461502'\n",
      "  '22193600']\n",
      " ...\n",
      " ['170.100006' '170.779999' '169.710007' '170.600006' '168.663101'\n",
      "  '21498200']\n",
      " ['171.000000' '171.850006' '170.479996' '171.080002' '169.137650'\n",
      "  '16480200']\n",
      " ['170.520004' '170.589996' '169.220001' '169.229996' '167.308640'\n",
      "  '25884400']]\n"
     ]
    },
    {
     "data": {
      "text/plain": [
       "(251, 6)"
      ]
     },
     "execution_count": 8,
     "metadata": {},
     "output_type": "execute_result"
    }
   ],
   "source": [
    "import numpy as np\n",
    "import csv\n",
    "\n",
    "with open('AAPL-2017.csv', newline = '') as a:\n",
    "    reader = csv.DictReader(a)\n",
    "    stock = np.empty((0, 6))\n",
    "    for row in reader:\n",
    "        oneRow = np.array([[row['Open'], row['High'], row['Low'],row['Close'],row['Adj Close'], row['Volume']]])\n",
    "        stock = np.append(stock, oneRow, axis=0)\n",
    "\n",
    "print(stock)\n",
    "#stock.ndim\n",
    "stock.shape"
   ]
  },
  {
   "cell_type": "code",
   "execution_count": 9,
   "metadata": {},
   "outputs": [
    {
     "name": "stdout",
     "output_type": "stream",
     "text": [
      "(1, 4)\n"
     ]
    }
   ],
   "source": [
    "a = np.array([[1,2,3,4]])  # Note extra pair of square-brackets\n",
    "print (a.shape) # (1,4)"
   ]
  },
  {
   "cell_type": "code",
   "execution_count": null,
   "metadata": {},
   "outputs": [],
   "source": []
  }
 ],
 "metadata": {
  "interpreter": {
   "hash": "8fac594bfae6525c0c41b4041d2d72effa188cc8ead05f81b1fab2bb098927fb"
  },
  "kernelspec": {
   "display_name": "Python 3.8.8 64-bit ('base': conda)",
   "name": "python3"
  },
  "language_info": {
   "codemirror_mode": {
    "name": "ipython",
    "version": 3
   },
   "file_extension": ".py",
   "mimetype": "text/x-python",
   "name": "python",
   "nbconvert_exporter": "python",
   "pygments_lexer": "ipython3",
   "version": "3.8.8"
  },
  "orig_nbformat": 4
 },
 "nbformat": 4,
 "nbformat_minor": 2
}
