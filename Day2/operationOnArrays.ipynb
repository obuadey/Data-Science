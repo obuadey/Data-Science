{
 "cells": [
  {
   "cell_type": "code",
   "execution_count": 4,
   "metadata": {},
   "outputs": [
    {
     "name": "stdout",
     "output_type": "stream",
     "text": [
      "(250, 6)\n"
     ]
    }
   ],
   "source": [
    "import numpy as np\n",
    "import csv\n",
    "\n",
    "with open('AAPL-2017.csv', newline = '') as a:\n",
    "    reader = csv.DictReader(a)\n",
    "    stock2017 = np.empty((250, 6))\n",
    "    for row in reader:\n",
    "        oneRow = np.array([[row['Open'], row['High'], row['Low'],row['Close'],row['Adj Close'], row['Volume']]])\n",
    "        np.append(stock2017,oneRow, axis=0)\n",
    "\n",
    "print(stock2017.shape)"
   ]
  },
  {
   "cell_type": "code",
   "execution_count": 15,
   "metadata": {},
   "outputs": [
    {
     "name": "stdout",
     "output_type": "stream",
     "text": [
      "(250, 6)\n"
     ]
    }
   ],
   "source": [
    "import numpy as np\n",
    "import csv\n",
    "\n",
    "with open('AAPL-2016.csv', newline = '') as b:\n",
    "    reader = csv.DictReader(b)\n",
    "    stock2016 = np.empty((250, 6))\n",
    "    for row in reader:\n",
    "        secondOne = np.array([[row['Open'], row['High'], row['Low'],row['Close'],row['Adj Close'], row['Volume']]])\n",
    "        np.append(stock2016,secondOne, axis=0)\n",
    "\n",
    "print(stock2016.shape)"
   ]
  },
  {
   "cell_type": "code",
   "execution_count": 25,
   "metadata": {},
   "outputs": [
    {
     "name": "stdout",
     "output_type": "stream",
     "text": [
      "[1.21358994e+132 9.09815536e-032 8.24054231e-032 7.16860717e-032\n",
      " 9.77699881e-032 6.16356636e-032]\n"
     ]
    }
   ],
   "source": [
    "sumOfData2017 = stock2017.sum(axis=0) #adding the content of each row ie axis = 0\n",
    "print(sumOfData2017)"
   ]
  },
  {
   "cell_type": "code",
   "execution_count": 26,
   "metadata": {},
   "outputs": [
    {
     "name": "stdout",
     "output_type": "stream",
     "text": [
      "[8.00618008e-310 8.57830112e-311 2.73576438e-057             nan\n",
      " 7.77211498e-310 7.44617644e-310]\n"
     ]
    }
   ],
   "source": [
    "sumOfData2016 = stock2016.sum(axis=0)\n",
    "print(sumOfData2016)"
   ]
  },
  {
   "cell_type": "code",
   "execution_count": 28,
   "metadata": {},
   "outputs": [
    {
     "name": "stdout",
     "output_type": "stream",
     "text": [
      "6.16356635862812e-32\n",
      "7.44617643960564e-310\n"
     ]
    }
   ],
   "source": [
    "#total volume traded for both years \n",
    "totalVolTraded2017 = stock2017[:,5].sum(axis = 0)\n",
    "print(totalVolTraded2017)\n",
    "\n",
    "totalVolTraded2016 = stock2016[:, 5].sum(axis = 0)\n",
    "print(totalVolTraded2016)"
   ]
  },
  {
   "cell_type": "code",
   "execution_count": 44,
   "metadata": {},
   "outputs": [
    {
     "name": "stdout",
     "output_type": "stream",
     "text": [
      "6.16356635862812e-32\n"
     ]
    }
   ],
   "source": [
    "#calculate the change between 2017 and 2016 volime traded\n",
    "\n",
    "diffInTotalVolume = totalVolTraded2017 - totalVolTraded2016\n",
    "print(diffInTotalVolume)"
   ]
  },
  {
   "cell_type": "code",
   "execution_count": 35,
   "metadata": {},
   "outputs": [
    {
     "name": "stdout",
     "output_type": "stream",
     "text": [
      "[1.21358994e+132 9.09815536e-032 8.24054231e-032             nan\n",
      " 9.77699881e-032 6.16356636e-032]\n"
     ]
    }
   ],
   "source": [
    "change  = sumOfData2017 - sumOfData2016 #the difference b/n data in 2017 and 2016\n",
    "print(change)"
   ]
  },
  {
   "cell_type": "code",
   "execution_count": 37,
   "metadata": {},
   "outputs": [
    {
     "data": {
      "text/plain": [
       "True"
      ]
     },
     "execution_count": 37,
     "metadata": {},
     "output_type": "execute_result"
    }
   ],
   "source": [
    "#verify to see if change is the same as difference in total volume\n",
    "\n",
    "diffInTotalVolume == change[5]"
   ]
  },
  {
   "cell_type": "code",
   "execution_count": 42,
   "metadata": {},
   "outputs": [
    {
     "name": "stdout",
     "output_type": "stream",
     "text": [
      "[[-1.59942883e-317  0.00000000e+000 -4.04738577e-320              nan\n",
      "  -6.95281240e-310 -6.82750714e-310]\n",
      " [ 8.98330940e-096 -2.94660672e-316  4.94065646e-324  1.06099790e-313\n",
      "  -2.47032823e-323  1.25308416e-311]\n",
      " [-3.16678451e-316 -1.10495704e-314 -2.73576438e-057 -1.72586391e-047\n",
      "   6.77544229e-043  1.15547235e-311]\n",
      " ...\n",
      " [ 0.00000000e+000  0.00000000e+000  0.00000000e+000  0.00000000e+000\n",
      "   0.00000000e+000  0.00000000e+000]\n",
      " [ 8.48798316e-314 -1.69759663e-313  1.48539705e-313  4.24399158e-314\n",
      "  -2.12199579e-314 -1.08221785e-312]\n",
      " [-1.08221785e-312 -9.54898106e-313 -1.03977794e-312 -2.47032823e-322\n",
      "   0.00000000e+000  0.00000000e+000]]\n"
     ]
    }
   ],
   "source": [
    "#subtracting the diff colums from both 2016 and 2017\n",
    "\n",
    "diffInEachColumn =  stock2017- stock2016\n",
    "print(diffInEachColumn)"
   ]
  },
  {
   "cell_type": "code",
   "execution_count": 43,
   "metadata": {},
   "outputs": [
    {
     "data": {
      "text/plain": [
       "6.16356635862812e-32"
      ]
     },
     "execution_count": 43,
     "metadata": {},
     "output_type": "execute_result"
    }
   ],
   "source": [
    "#sum only the volumme column \n",
    "diffInEachColumn[:,5].sum(axis = 0)"
   ]
  },
  {
   "cell_type": "code",
   "execution_count": 45,
   "metadata": {},
   "outputs": [],
   "source": [
    "np.set_printoptions(formatter={'float': '{: 6.2f}'.format}) # set print options"
   ]
  },
  {
   "cell_type": "code",
   "execution_count": 47,
   "metadata": {},
   "outputs": [
    {
     "name": "stdout",
     "output_type": "stream",
     "text": [
      "[ 1213589943597985802434340228673142970749626923884366934203671180654916503321383804197033797621765202326569272983713870801650269028352.00\n",
      "   0.00   0.00    nan   0.00   0.00]\n"
     ]
    }
   ],
   "source": [
    "\n",
    "np.set_printoptions() # reset nonsense done above"
   ]
  },
  {
   "cell_type": "code",
   "execution_count": 48,
   "metadata": {},
   "outputs": [
    {
     "name": "stdout",
     "output_type": "stream",
     "text": [
      "[1.21358994e+132 9.09815536e-032 8.24054231e-032             nan\n",
      " 9.77699881e-032 6.16356636e-032]\n"
     ]
    }
   ],
   "source": [
    "print(change)"
   ]
  },
  {
   "cell_type": "code",
   "execution_count": 53,
   "metadata": {},
   "outputs": [],
   "source": [
    "combined_years =np.concatenate([stock2016,stock2017])\n",
    "np.savetxt('combine.csv', combined_years, fmt='%10.2f', delimiter=', ') # write into a new file "
   ]
  }
 ],
 "metadata": {
  "interpreter": {
   "hash": "8fac594bfae6525c0c41b4041d2d72effa188cc8ead05f81b1fab2bb098927fb"
  },
  "kernelspec": {
   "display_name": "Python 3.8.8 64-bit ('base': conda)",
   "name": "python3"
  },
  "language_info": {
   "codemirror_mode": {
    "name": "ipython",
    "version": 3
   },
   "file_extension": ".py",
   "mimetype": "text/x-python",
   "name": "python",
   "nbconvert_exporter": "python",
   "pygments_lexer": "ipython3",
   "version": "3.8.8"
  },
  "orig_nbformat": 4
 },
 "nbformat": 4,
 "nbformat_minor": 2
}
